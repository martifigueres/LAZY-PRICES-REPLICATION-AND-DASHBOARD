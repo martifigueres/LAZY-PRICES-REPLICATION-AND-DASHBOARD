{
 "cells": [
  {
   "cell_type": "code",
   "execution_count": null,
   "id": "8f7f32ab-0bd5-48f8-894a-8b8f473d53f3",
   "metadata": {},
   "outputs": [
    {
     "name": "stdout",
     "output_type": "stream",
     "text": [
      "\u001b[0m\n",
      "\u001b[34m\u001b[1m  You can now view your Streamlit app in your browser.\u001b[0m\n",
      "\u001b[0m\n",
      "\u001b[34m  Local URL: \u001b[0m\u001b[1mhttp://localhost:8501\u001b[0m\n",
      "\u001b[34m  Network URL: \u001b[0m\u001b[1mhttp://128.180.248.39:8501\u001b[0m\n",
      "\u001b[0m\n",
      "2025-05-02 13:56:42.795 Uncaught app exception\n",
      "Traceback (most recent call last):\n",
      "  File \"/opt/anaconda3/lib/python3.12/site-packages/streamlit/elements/image.py\", line 427, in image_to_url\n",
      "    with open(image, \"rb\") as f:\n",
      "         ^^^^^^^^^^^^^^^^^\n",
      "FileNotFoundError: [Errno 2] No such file or directory: 'pics/pic1.png'\n",
      "\n",
      "During handling of the above exception, another exception occurred:\n",
      "\n",
      "Traceback (most recent call last):\n",
      "  File \"/opt/anaconda3/lib/python3.12/site-packages/streamlit/runtime/memory_media_file_storage.py\", line 164, in _read_file\n",
      "    with open(filename, \"rb\") as f:\n",
      "         ^^^^^^^^^^^^^^^^^^^^\n",
      "FileNotFoundError: [Errno 2] No such file or directory: 'pics/pic1.png'\n",
      "\n",
      "The above exception was the direct cause of the following exception:\n",
      "\n",
      "Traceback (most recent call last):\n",
      "  File \"/opt/anaconda3/lib/python3.12/site-packages/streamlit/runtime/scriptrunner/exec_code.py\", line 88, in exec_func_with_error_handling\n",
      "    result = func()\n",
      "             ^^^^^^\n",
      "  File \"/opt/anaconda3/lib/python3.12/site-packages/streamlit/runtime/scriptrunner/script_runner.py\", line 579, in code_to_exec\n",
      "    exec(code, module.__dict__)\n",
      "  File \"/Users/hannahgordon/Desktop/FIN377/LAZY-PRICES-REPLICATION-AND-DASHBOARD/Dashboard/FinalWeb.py\", line 208, in <module>\n",
      "    st.image(\"pics/pic1.png\")\n",
      "  File \"/opt/anaconda3/lib/python3.12/site-packages/streamlit/runtime/metrics_util.py\", line 410, in wrapped_func\n",
      "    result = non_optional_func(*args, **kwargs)\n",
      "             ^^^^^^^^^^^^^^^^^^^^^^^^^^^^^^^^^^\n",
      "  File \"/opt/anaconda3/lib/python3.12/site-packages/streamlit/elements/image.py\", line 204, in image\n",
      "    marshall_images(\n",
      "  File \"/opt/anaconda3/lib/python3.12/site-packages/streamlit/elements/image.py\", line 588, in marshall_images\n",
      "    proto_img.url = image_to_url(\n",
      "                    ^^^^^^^^^^^^^\n",
      "  File \"/opt/anaconda3/lib/python3.12/site-packages/streamlit/elements/image.py\", line 439, in image_to_url\n",
      "    url = runtime.get_instance().media_file_mgr.add(image, mimetype, image_id)\n",
      "          ^^^^^^^^^^^^^^^^^^^^^^^^^^^^^^^^^^^^^^^^^^^^^^^^^^^^^^^^^^^^^^^^^^^^\n",
      "  File \"/opt/anaconda3/lib/python3.12/site-packages/streamlit/runtime/media_file_manager.py\", line 226, in add\n",
      "    file_id = self._storage.load_and_get_id(\n",
      "              ^^^^^^^^^^^^^^^^^^^^^^^^^^^^^^\n",
      "  File \"/opt/anaconda3/lib/python3.12/site-packages/streamlit/runtime/memory_media_file_storage.py\", line 115, in load_and_get_id\n",
      "    file_data = self._read_file(path_or_data)\n",
      "                ^^^^^^^^^^^^^^^^^^^^^^^^^^^^^\n",
      "  File \"/opt/anaconda3/lib/python3.12/site-packages/streamlit/runtime/memory_media_file_storage.py\", line 167, in _read_file\n",
      "    raise MediaFileStorageError(f\"Error opening '{filename}'\") from ex\n",
      "streamlit.runtime.media_file_storage.MediaFileStorageError: Error opening 'pics/pic1.png'\n"
     ]
    }
   ],
   "source": [
    "!streamlit run FinalWeb.py"
   ]
  },
  {
   "cell_type": "code",
   "execution_count": null,
   "id": "45c569be-7e9d-4306-8207-f3660e13c3ec",
   "metadata": {},
   "outputs": [],
   "source": []
  },
  {
   "cell_type": "code",
   "execution_count": null,
   "id": "6e88bd4f-fb9f-422b-bd44-c844f908e45f",
   "metadata": {},
   "outputs": [],
   "source": []
  }
 ],
 "metadata": {
  "kernelspec": {
   "display_name": "Python [conda env:base] *",
   "language": "python",
   "name": "conda-base-py"
  },
  "language_info": {
   "codemirror_mode": {
    "name": "ipython",
    "version": 3
   },
   "file_extension": ".py",
   "mimetype": "text/x-python",
   "name": "python",
   "nbconvert_exporter": "python",
   "pygments_lexer": "ipython3",
   "version": "3.12.7"
  }
 },
 "nbformat": 4,
 "nbformat_minor": 5
}
